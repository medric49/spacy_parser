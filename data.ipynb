{
 "cells": [
  {
   "cell_type": "code",
   "execution_count": 1,
   "metadata": {},
   "outputs": [],
   "source": [
    "import os"
   ]
  },
  {
   "cell_type": "code",
   "execution_count": 2,
   "metadata": {},
   "outputs": [],
   "source": [
    "root_dir = '1g-word-1m-benchmark-r13output/1bshort/'\n",
    "corpus_root = 'data'\n",
    "\n",
    "i = 9\n",
    "\n",
    "new_corpus_file = f'{corpus_root}/corpus.txt'\n",
    "new_corpus = open(new_corpus_file, 'a')\n",
    "\n",
    "for j in range(1, i + 1):\n",
    "    num = str(j).zfill(5)\n",
    "    corpus_file = f'{root_dir}/news.en-{num}-of-00100'\n",
    "    with open(corpus_file, 'r') as corpus_file:\n",
    "        corpus = corpus_file.read()\n",
    "    new_corpus.write(corpus)\n",
    "new_corpus.close()"
   ]
  },
  {
   "cell_type": "code",
   "execution_count": null,
   "metadata": {},
   "outputs": [],
   "source": []
  }
 ],
 "metadata": {
  "kernelspec": {
   "display_name": "Python 3",
   "language": "python",
   "name": "python3"
  },
  "language_info": {
   "codemirror_mode": {
    "name": "ipython",
    "version": 3
   },
   "file_extension": ".py",
   "mimetype": "text/x-python",
   "name": "python",
   "nbconvert_exporter": "python",
   "pygments_lexer": "ipython3",
   "version": "3.8.10"
  }
 },
 "nbformat": 4,
 "nbformat_minor": 4
}
